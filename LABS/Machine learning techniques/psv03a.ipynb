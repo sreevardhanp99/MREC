{
 "cells": [
  {
   "cell_type": "code",
   "execution_count": 6,
   "id": "e0ca745b-4351-4729-9ebc-152c8394ac34",
   "metadata": {},
   "outputs": [
    {
     "data": {
      "text/plain": [
       "(array([[1.0470438]]), array([-3.74817743]))"
      ]
     },
     "execution_count": 6,
     "metadata": {},
     "output_type": "execute_result"
    }
   ],
   "source": [
    "import numpy as np \n",
    "from sklearn.linear_model import LogisticRegression \n",
    "X = np.array([1, 2, 3, 4, 5]).reshape(-1, 1) \n",
    "y = np.array([0, 0, 0, 1, 1]) \n",
    "\n",
    "model = LogisticRegression() \n",
    "model.fit(X, y) \n",
    "y_pred = model.predict(X) \n",
    "model.coef_, model.intercept_ "
   ]
  },
  {
   "cell_type": "code",
   "execution_count": null,
   "id": "2d4a0903-8343-4491-8a8f-0d3d23c1b38b",
   "metadata": {},
   "outputs": [],
   "source": []
  }
 ],
 "metadata": {
  "kernelspec": {
   "display_name": "Python 3 (ipykernel)",
   "language": "python",
   "name": "python3"
  },
  "language_info": {
   "codemirror_mode": {
    "name": "ipython",
    "version": 3
   },
   "file_extension": ".py",
   "mimetype": "text/x-python",
   "name": "python",
   "nbconvert_exporter": "python",
   "pygments_lexer": "ipython3",
   "version": "3.12.4"
  }
 },
 "nbformat": 4,
 "nbformat_minor": 5
}
