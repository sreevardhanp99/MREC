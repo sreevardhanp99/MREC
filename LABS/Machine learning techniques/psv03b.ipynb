{
 "cells": [
  {
   "cell_type": "code",
   "execution_count": 2,
   "id": "40474645-7951-4dde-bac7-1e1743079351",
   "metadata": {},
   "outputs": [
    {
     "data": {
      "text/plain": [
       "(array([[0.71252231, 0.71252231]]), array([-5.02976731]))"
      ]
     },
     "execution_count": 2,
     "metadata": {},
     "output_type": "execute_result"
    }
   ],
   "source": [
    "import numpy as np \n",
    "from sklearn.linear_model import LogisticRegression \n",
    "X = np.array([[1, 1], [2, 2], [3, 3], [4, 4], [5, 5]]) \n",
    "y = np.array([0, 0, 0, 1, 1]) \n",
    "model = LogisticRegression() \n",
    "model.fit(X, y) \n",
    "y_pred = model.predict(X) \n",
    "model.coef_, model.intercept_ "
   ]
  },
  {
   "cell_type": "code",
   "execution_count": null,
   "id": "fcafa376-0adb-4c9a-9bd7-f891d2bf3970",
   "metadata": {},
   "outputs": [],
   "source": []
  }
 ],
 "metadata": {
  "kernelspec": {
   "display_name": "Python 3 (ipykernel)",
   "language": "python",
   "name": "python3"
  },
  "language_info": {
   "codemirror_mode": {
    "name": "ipython",
    "version": 3
   },
   "file_extension": ".py",
   "mimetype": "text/x-python",
   "name": "python",
   "nbconvert_exporter": "python",
   "pygments_lexer": "ipython3",
   "version": "3.12.4"
  }
 },
 "nbformat": 4,
 "nbformat_minor": 5
}
